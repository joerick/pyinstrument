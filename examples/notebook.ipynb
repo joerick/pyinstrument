{
 "nbformat": 4,
 "nbformat_minor": 2,
 "metadata": {
  "language_info": {
   "name": "python",
   "codemirror_mode": {
    "name": "ipython",
    "version": 2
   },
   "version": "3.7.4-final"
  },
  "orig_nbformat": 2,
  "file_extension": ".py",
  "mimetype": "text/x-python",
  "name": "python",
  "npconvert_exporter": "python",
  "pygments_lexer": "ipython2",
  "version": 2,
  "kernelspec": {
   "name": "python37464bitenvvenvd2889a66749e4c31ade8cb523f0e7e3f",
   "display_name": "Python 3.7.4 64-bit ('env': venv)"
  }
 },
 "cells": [
  {
   "cell_type": "code",
   "execution_count": 6,
   "metadata": {},
   "outputs": [
    {
     "name": "stderr",
     "output_type": "stream",
     "text": "This most common words were [('the', 124), ('of', 75), ('and', 66), ('to', 45), ('is', 40)]\n\n  _     ._   __/__   _ _  _  _ _/_   Recorded: 12:15:50  Samples:  9\n /_//_/// /_\\ / //_// / //_'/ //     Duration: 1.348     CPU time: 0.032\n/   _/                      v3.1.1\n\nProgram: /Users/joerick/Projects/pyinstrument/env/lib/python3.7/site-packages/ipykernel_launcher.py -f /Users/joerick/Library/Jupyter/runtime/kernel-1e405742-cdec-4feb-bccd-73cd167b1013.json\n\n1.348 <module>  <ipython-input-6-785903cbbf0d>:4\n├─ 1.004 [self]  \n└─ 0.344 main  wikipedia_article_word_count.py:33\n   └─ 0.343 download  wikipedia_article_word_count.py:12\n      └─ 0.338 urlopen  urllib/request.py:139\n            [32 frames hidden]  urllib, http, socket, ssl\n\n"
    }
   ],
   "source": [
    "import pyinstrument, time, importlib\n",
    "importlib.reload(pyinstrument)\n",
    "\n",
    "with pyinstrument.profile():\n",
    "    import wikipedia_article_word_count\n",
    "    wikipedia_article_word_count.main()\n",
    "    time.sleep(1)"
   ]
  },
  {
   "cell_type": "code",
   "execution_count": null,
   "metadata": {},
   "outputs": [],
   "source": []
  },
  {
   "cell_type": "code",
   "execution_count": null,
   "metadata": {},
   "outputs": [],
   "source": []
  }
 ]
}